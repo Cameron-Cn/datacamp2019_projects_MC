{
 "cells": [
  {
   "cell_type": "markdown",
   "metadata": {},
   "source": [
    "<h1> Practice Project No.l</h1>"
   ]
  },
  {
   "cell_type": "markdown",
   "metadata": {},
   "source": [
    "<b>2019 March</b>\n",
    "<p>Rama, Thomas, Cameron</p>"
   ]
  },
  {
   "cell_type": "markdown",
   "metadata": {},
   "source": [
    "<i> Code commentary is #commented out# in the script boxes, and project commentary is included in italicized text such as this. (Expository)\n",
    "</i>"
   ]
  },
  {
   "cell_type": "markdown",
   "metadata": {},
   "source": [
    "<h3>The Beginning</h3>"
   ]
  },
  {
   "cell_type": "code",
   "execution_count": 1,
   "metadata": {
    "collapsed": true
   },
   "outputs": [],
   "source": [
    "#import Panda and Numpy\n",
    "import pandas as pd\n",
    "import numpy as np\n"
   ]
  },
  {
   "cell_type": "code",
   "execution_count": 6,
   "metadata": {},
   "outputs": [],
   "source": [
    "#defining the location for data and attempting to read it with panda\n",
    "location = \"datasets/DC_Properties.csv\"\n",
    "dcl_df = pd.read_csv(location, low_memory=False)"
   ]
  },
  {
   "cell_type": "markdown",
   "metadata": {},
   "source": [
    "<i>Looking at the data we just loaded! Let's hope that worked! Without the command modifier 'low_memory=False' we get a memory error. The error does not prevent work from being done, but it is annoying to get an error in any case, so we have elected to run the command as such to minimize error messages.\n",
    "</i>"
   ]
  },
  {
   "cell_type": "code",
   "execution_count": 7,
   "metadata": {},
   "outputs": [
    {
     "data": {
      "text/html": [
       "<div>\n",
       "<style>\n",
       "    .dataframe thead tr:only-child th {\n",
       "        text-align: right;\n",
       "    }\n",
       "\n",
       "    .dataframe thead th {\n",
       "        text-align: left;\n",
       "    }\n",
       "\n",
       "    .dataframe tbody tr th {\n",
       "        vertical-align: top;\n",
       "    }\n",
       "</style>\n",
       "<table border=\"1\" class=\"dataframe\">\n",
       "  <thead>\n",
       "    <tr style=\"text-align: right;\">\n",
       "      <th></th>\n",
       "      <th>Unnamed: 0</th>\n",
       "      <th>BATHRM</th>\n",
       "      <th>HF_BATHRM</th>\n",
       "      <th>HEAT</th>\n",
       "      <th>AC</th>\n",
       "      <th>NUM_UNITS</th>\n",
       "      <th>ROOMS</th>\n",
       "      <th>BEDRM</th>\n",
       "      <th>AYB</th>\n",
       "      <th>YR_RMDL</th>\n",
       "      <th>...</th>\n",
       "      <th>LONGITUDE</th>\n",
       "      <th>ASSESSMENT_NBHD</th>\n",
       "      <th>ASSESSMENT_SUBNBHD</th>\n",
       "      <th>CENSUS_TRACT</th>\n",
       "      <th>CENSUS_BLOCK</th>\n",
       "      <th>WARD</th>\n",
       "      <th>SQUARE</th>\n",
       "      <th>X</th>\n",
       "      <th>Y</th>\n",
       "      <th>QUADRANT</th>\n",
       "    </tr>\n",
       "  </thead>\n",
       "  <tbody>\n",
       "    <tr>\n",
       "      <th>0</th>\n",
       "      <td>0</td>\n",
       "      <td>4</td>\n",
       "      <td>0</td>\n",
       "      <td>Warm Cool</td>\n",
       "      <td>Y</td>\n",
       "      <td>2.0</td>\n",
       "      <td>8</td>\n",
       "      <td>4</td>\n",
       "      <td>1910.0</td>\n",
       "      <td>1988.0</td>\n",
       "      <td>...</td>\n",
       "      <td>-77.040832</td>\n",
       "      <td>Old City 2</td>\n",
       "      <td>040 D Old City 2</td>\n",
       "      <td>4201.0</td>\n",
       "      <td>004201 2006</td>\n",
       "      <td>Ward 2</td>\n",
       "      <td>0152</td>\n",
       "      <td>-77.040429</td>\n",
       "      <td>38.914881</td>\n",
       "      <td>NW</td>\n",
       "    </tr>\n",
       "    <tr>\n",
       "      <th>1</th>\n",
       "      <td>1</td>\n",
       "      <td>3</td>\n",
       "      <td>1</td>\n",
       "      <td>Warm Cool</td>\n",
       "      <td>Y</td>\n",
       "      <td>2.0</td>\n",
       "      <td>11</td>\n",
       "      <td>5</td>\n",
       "      <td>1898.0</td>\n",
       "      <td>2007.0</td>\n",
       "      <td>...</td>\n",
       "      <td>-77.040764</td>\n",
       "      <td>Old City 2</td>\n",
       "      <td>040 D Old City 2</td>\n",
       "      <td>4201.0</td>\n",
       "      <td>004201 2006</td>\n",
       "      <td>Ward 2</td>\n",
       "      <td>0152</td>\n",
       "      <td>-77.040429</td>\n",
       "      <td>38.914881</td>\n",
       "      <td>NW</td>\n",
       "    </tr>\n",
       "    <tr>\n",
       "      <th>2</th>\n",
       "      <td>2</td>\n",
       "      <td>3</td>\n",
       "      <td>1</td>\n",
       "      <td>Hot Water Rad</td>\n",
       "      <td>Y</td>\n",
       "      <td>2.0</td>\n",
       "      <td>9</td>\n",
       "      <td>5</td>\n",
       "      <td>1910.0</td>\n",
       "      <td>2009.0</td>\n",
       "      <td>...</td>\n",
       "      <td>-77.040678</td>\n",
       "      <td>Old City 2</td>\n",
       "      <td>040 D Old City 2</td>\n",
       "      <td>4201.0</td>\n",
       "      <td>004201 2006</td>\n",
       "      <td>Ward 2</td>\n",
       "      <td>0152</td>\n",
       "      <td>-77.040429</td>\n",
       "      <td>38.914881</td>\n",
       "      <td>NW</td>\n",
       "    </tr>\n",
       "    <tr>\n",
       "      <th>3</th>\n",
       "      <td>3</td>\n",
       "      <td>3</td>\n",
       "      <td>1</td>\n",
       "      <td>Hot Water Rad</td>\n",
       "      <td>Y</td>\n",
       "      <td>2.0</td>\n",
       "      <td>8</td>\n",
       "      <td>5</td>\n",
       "      <td>1900.0</td>\n",
       "      <td>2003.0</td>\n",
       "      <td>...</td>\n",
       "      <td>-77.040629</td>\n",
       "      <td>Old City 2</td>\n",
       "      <td>040 D Old City 2</td>\n",
       "      <td>4201.0</td>\n",
       "      <td>004201 2006</td>\n",
       "      <td>Ward 2</td>\n",
       "      <td>0152</td>\n",
       "      <td>-77.040429</td>\n",
       "      <td>38.914881</td>\n",
       "      <td>NW</td>\n",
       "    </tr>\n",
       "    <tr>\n",
       "      <th>4</th>\n",
       "      <td>4</td>\n",
       "      <td>2</td>\n",
       "      <td>1</td>\n",
       "      <td>Warm Cool</td>\n",
       "      <td>Y</td>\n",
       "      <td>1.0</td>\n",
       "      <td>11</td>\n",
       "      <td>3</td>\n",
       "      <td>1913.0</td>\n",
       "      <td>2012.0</td>\n",
       "      <td>...</td>\n",
       "      <td>-77.039361</td>\n",
       "      <td>Old City 2</td>\n",
       "      <td>040 D Old City 2</td>\n",
       "      <td>4201.0</td>\n",
       "      <td>004201 2006</td>\n",
       "      <td>Ward 2</td>\n",
       "      <td>0152</td>\n",
       "      <td>-77.040429</td>\n",
       "      <td>38.914881</td>\n",
       "      <td>NW</td>\n",
       "    </tr>\n",
       "  </tbody>\n",
       "</table>\n",
       "<p>5 rows × 49 columns</p>\n",
       "</div>"
      ],
      "text/plain": [
       "   Unnamed: 0  BATHRM  HF_BATHRM           HEAT AC  NUM_UNITS  ROOMS  BEDRM  \\\n",
       "0           0       4          0      Warm Cool  Y        2.0      8      4   \n",
       "1           1       3          1      Warm Cool  Y        2.0     11      5   \n",
       "2           2       3          1  Hot Water Rad  Y        2.0      9      5   \n",
       "3           3       3          1  Hot Water Rad  Y        2.0      8      5   \n",
       "4           4       2          1      Warm Cool  Y        1.0     11      3   \n",
       "\n",
       "      AYB  YR_RMDL   ...     LONGITUDE  ASSESSMENT_NBHD ASSESSMENT_SUBNBHD  \\\n",
       "0  1910.0   1988.0   ...    -77.040832       Old City 2   040 D Old City 2   \n",
       "1  1898.0   2007.0   ...    -77.040764       Old City 2   040 D Old City 2   \n",
       "2  1910.0   2009.0   ...    -77.040678       Old City 2   040 D Old City 2   \n",
       "3  1900.0   2003.0   ...    -77.040629       Old City 2   040 D Old City 2   \n",
       "4  1913.0   2012.0   ...    -77.039361       Old City 2   040 D Old City 2   \n",
       "\n",
       "   CENSUS_TRACT CENSUS_BLOCK    WARD  SQUARE          X          Y QUADRANT  \n",
       "0        4201.0  004201 2006  Ward 2    0152 -77.040429  38.914881       NW  \n",
       "1        4201.0  004201 2006  Ward 2    0152 -77.040429  38.914881       NW  \n",
       "2        4201.0  004201 2006  Ward 2    0152 -77.040429  38.914881       NW  \n",
       "3        4201.0  004201 2006  Ward 2    0152 -77.040429  38.914881       NW  \n",
       "4        4201.0  004201 2006  Ward 2    0152 -77.040429  38.914881       NW  \n",
       "\n",
       "[5 rows x 49 columns]"
      ]
     },
     "execution_count": 7,
     "metadata": {},
     "output_type": "execute_result"
    }
   ],
   "source": [
    "dcl_df.head()\n",
    "#looking at the head of our data file"
   ]
  },
  {
   "cell_type": "code",
   "execution_count": 9,
   "metadata": {},
   "outputs": [
    {
     "data": {
      "text/html": [
       "<div>\n",
       "<style>\n",
       "    .dataframe thead tr:only-child th {\n",
       "        text-align: right;\n",
       "    }\n",
       "\n",
       "    .dataframe thead th {\n",
       "        text-align: left;\n",
       "    }\n",
       "\n",
       "    .dataframe tbody tr th {\n",
       "        vertical-align: top;\n",
       "    }\n",
       "</style>\n",
       "<table border=\"1\" class=\"dataframe\">\n",
       "  <thead>\n",
       "    <tr style=\"text-align: right;\">\n",
       "      <th></th>\n",
       "      <th>Unnamed: 0</th>\n",
       "      <th>BATHRM</th>\n",
       "      <th>HF_BATHRM</th>\n",
       "      <th>HEAT</th>\n",
       "      <th>AC</th>\n",
       "      <th>NUM_UNITS</th>\n",
       "      <th>ROOMS</th>\n",
       "      <th>BEDRM</th>\n",
       "      <th>AYB</th>\n",
       "      <th>YR_RMDL</th>\n",
       "      <th>...</th>\n",
       "      <th>LONGITUDE</th>\n",
       "      <th>ASSESSMENT_NBHD</th>\n",
       "      <th>ASSESSMENT_SUBNBHD</th>\n",
       "      <th>CENSUS_TRACT</th>\n",
       "      <th>CENSUS_BLOCK</th>\n",
       "      <th>WARD</th>\n",
       "      <th>SQUARE</th>\n",
       "      <th>X</th>\n",
       "      <th>Y</th>\n",
       "      <th>QUADRANT</th>\n",
       "    </tr>\n",
       "  </thead>\n",
       "  <tbody>\n",
       "    <tr>\n",
       "      <th>158956</th>\n",
       "      <td>158956</td>\n",
       "      <td>1</td>\n",
       "      <td>0</td>\n",
       "      <td>Warm Cool</td>\n",
       "      <td>Y</td>\n",
       "      <td>NaN</td>\n",
       "      <td>2</td>\n",
       "      <td>0</td>\n",
       "      <td>1965.0</td>\n",
       "      <td>NaN</td>\n",
       "      <td>...</td>\n",
       "      <td>-77.01823</td>\n",
       "      <td>Southwest Waterfront</td>\n",
       "      <td>NaN</td>\n",
       "      <td>11000.0</td>\n",
       "      <td>NaN</td>\n",
       "      <td>Ward 6</td>\n",
       "      <td>0504</td>\n",
       "      <td>-77.018232</td>\n",
       "      <td>38.872961</td>\n",
       "      <td>SW</td>\n",
       "    </tr>\n",
       "  </tbody>\n",
       "</table>\n",
       "<p>1 rows × 49 columns</p>\n",
       "</div>"
      ],
      "text/plain": [
       "        Unnamed: 0  BATHRM  HF_BATHRM       HEAT AC  NUM_UNITS  ROOMS  BEDRM  \\\n",
       "158956      158956       1          0  Warm Cool  Y        NaN      2      0   \n",
       "\n",
       "           AYB  YR_RMDL   ...     LONGITUDE       ASSESSMENT_NBHD  \\\n",
       "158956  1965.0      NaN   ...     -77.01823  Southwest Waterfront   \n",
       "\n",
       "       ASSESSMENT_SUBNBHD  CENSUS_TRACT CENSUS_BLOCK    WARD  SQUARE  \\\n",
       "158956                NaN       11000.0          NaN  Ward 6    0504   \n",
       "\n",
       "                X          Y QUADRANT  \n",
       "158956 -77.018232  38.872961       SW  \n",
       "\n",
       "[1 rows x 49 columns]"
      ]
     },
     "execution_count": 9,
     "metadata": {},
     "output_type": "execute_result"
    }
   ],
   "source": [
    "#looking at the end of the file\n",
    "dcl_df.tail(1)"
   ]
  },
  {
   "cell_type": "markdown",
   "metadata": {},
   "source": [
    "<h3>Tepid Initial Analysis</h3>\n",
    "<p><h4> Getting A Feel</h4></p>"
   ]
  },
  {
   "cell_type": "code",
   "execution_count": 26,
   "metadata": {},
   "outputs": [
    {
     "data": {
      "text/html": [
       "<div>\n",
       "<style>\n",
       "    .dataframe thead tr:only-child th {\n",
       "        text-align: right;\n",
       "    }\n",
       "\n",
       "    .dataframe thead th {\n",
       "        text-align: left;\n",
       "    }\n",
       "\n",
       "    .dataframe tbody tr th {\n",
       "        vertical-align: top;\n",
       "    }\n",
       "</style>\n",
       "<table border=\"1\" class=\"dataframe\">\n",
       "  <thead>\n",
       "    <tr style=\"text-align: right;\">\n",
       "      <th></th>\n",
       "      <th>Unnamed: 0</th>\n",
       "      <th>BATHRM</th>\n",
       "      <th>HF_BATHRM</th>\n",
       "      <th>HEAT</th>\n",
       "      <th>AC</th>\n",
       "      <th>NUM_UNITS</th>\n",
       "      <th>ROOMS</th>\n",
       "      <th>BEDRM</th>\n",
       "      <th>AYB</th>\n",
       "      <th>YR_RMDL</th>\n",
       "      <th>...</th>\n",
       "      <th>LONGITUDE</th>\n",
       "      <th>ASSESSMENT_NBHD</th>\n",
       "      <th>ASSESSMENT_SUBNBHD</th>\n",
       "      <th>CENSUS_TRACT</th>\n",
       "      <th>CENSUS_BLOCK</th>\n",
       "      <th>WARD</th>\n",
       "      <th>SQUARE</th>\n",
       "      <th>X</th>\n",
       "      <th>Y</th>\n",
       "      <th>QUADRANT</th>\n",
       "    </tr>\n",
       "  </thead>\n",
       "  <tbody>\n",
       "  </tbody>\n",
       "</table>\n",
       "<p>0 rows × 49 columns</p>\n",
       "</div>"
      ],
      "text/plain": [
       "Empty DataFrame\n",
       "Columns: [Unnamed: 0, BATHRM, HF_BATHRM, HEAT, AC, NUM_UNITS, ROOMS, BEDRM, AYB, YR_RMDL, EYB, STORIES, SALEDATE, PRICE, QUALIFIED, SALE_NUM, GBA, BLDG_NUM, STYLE, STRUCT, GRADE, CNDTN, EXTWALL, ROOF, INTWALL, KITCHENS, FIREPLACES, USECODE, LANDAREA, GIS_LAST_MOD_DTTM, SOURCE, CMPLX_NUM, LIVING_GBA, FULLADDRESS, CITY, STATE, ZIPCODE, NATIONALGRID, LATITUDE, LONGITUDE, ASSESSMENT_NBHD, ASSESSMENT_SUBNBHD, CENSUS_TRACT, CENSUS_BLOCK, WARD, SQUARE, X, Y, QUADRANT]\n",
       "Index: []\n",
       "\n",
       "[0 rows x 49 columns]"
      ]
     },
     "execution_count": 26,
     "metadata": {},
     "output_type": "execute_result"
    }
   ],
   "source": [
    "#looking for duplicates in the data\n",
    "dupe = dcl_df.duplicated()\n",
    "dcl_df[dupe]\n",
    "#there appear to be no duplicates in this data\n",
    "#it is already remarkably clean\n"
   ]
  },
  {
   "cell_type": "markdown",
   "metadata": {},
   "source": [
    "<i>There are no values that duplicate across all 49 columns. This is good, it makes our initial job (maybe) that much easier...\n",
    "</i>"
   ]
  },
  {
   "cell_type": "code",
   "execution_count": 40,
   "metadata": {},
   "outputs": [
    {
     "data": {
      "text/plain": [
       "Unnamed: 0              int64\n",
       "BATHRM                  int64\n",
       "HF_BATHRM               int64\n",
       "HEAT                   object\n",
       "AC                     object\n",
       "NUM_UNITS             float64\n",
       "ROOMS                   int64\n",
       "BEDRM                   int64\n",
       "AYB                   float64\n",
       "YR_RMDL               float64\n",
       "EYB                     int64\n",
       "STORIES               float64\n",
       "SALEDATE               object\n",
       "PRICE                 float64\n",
       "QUALIFIED              object\n",
       "SALE_NUM                int64\n",
       "GBA                   float64\n",
       "BLDG_NUM                int64\n",
       "STYLE                  object\n",
       "STRUCT                 object\n",
       "GRADE                  object\n",
       "CNDTN                  object\n",
       "EXTWALL                object\n",
       "ROOF                   object\n",
       "INTWALL                object\n",
       "KITCHENS              float64\n",
       "FIREPLACES              int64\n",
       "USECODE                 int64\n",
       "LANDAREA                int64\n",
       "GIS_LAST_MOD_DTTM      object\n",
       "SOURCE                 object\n",
       "CMPLX_NUM             float64\n",
       "LIVING_GBA            float64\n",
       "FULLADDRESS            object\n",
       "CITY                   object\n",
       "STATE                  object\n",
       "ZIPCODE               float64\n",
       "NATIONALGRID           object\n",
       "LATITUDE              float64\n",
       "LONGITUDE             float64\n",
       "ASSESSMENT_NBHD        object\n",
       "ASSESSMENT_SUBNBHD     object\n",
       "CENSUS_TRACT          float64\n",
       "CENSUS_BLOCK           object\n",
       "WARD                   object\n",
       "SQUARE                 object\n",
       "X                     float64\n",
       "Y                     float64\n",
       "QUADRANT               object\n",
       "dtype: object"
      ]
     },
     "execution_count": 40,
     "metadata": {},
     "output_type": "execute_result"
    }
   ],
   "source": [
    "#looking at the data names and column types\n",
    "#there are 49 unique columns present in the CSV\n",
    "#The first 'Unnamed: 0' is a count-up from 0 to 158956\n",
    "dcl_df.dtypes"
   ]
  },
  {
   "cell_type": "code",
   "execution_count": 11,
   "metadata": {},
   "outputs": [
    {
     "data": {
      "text/html": [
       "<div>\n",
       "<style>\n",
       "    .dataframe thead tr:only-child th {\n",
       "        text-align: right;\n",
       "    }\n",
       "\n",
       "    .dataframe thead th {\n",
       "        text-align: left;\n",
       "    }\n",
       "\n",
       "    .dataframe tbody tr th {\n",
       "        vertical-align: top;\n",
       "    }\n",
       "</style>\n",
       "<table border=\"1\" class=\"dataframe\">\n",
       "  <thead>\n",
       "    <tr style=\"text-align: right;\">\n",
       "      <th></th>\n",
       "      <th>Unnamed: 0</th>\n",
       "      <th>BATHRM</th>\n",
       "      <th>HF_BATHRM</th>\n",
       "      <th>NUM_UNITS</th>\n",
       "      <th>ROOMS</th>\n",
       "      <th>BEDRM</th>\n",
       "      <th>AYB</th>\n",
       "      <th>YR_RMDL</th>\n",
       "      <th>EYB</th>\n",
       "      <th>STORIES</th>\n",
       "      <th>...</th>\n",
       "      <th>USECODE</th>\n",
       "      <th>LANDAREA</th>\n",
       "      <th>CMPLX_NUM</th>\n",
       "      <th>LIVING_GBA</th>\n",
       "      <th>ZIPCODE</th>\n",
       "      <th>LATITUDE</th>\n",
       "      <th>LONGITUDE</th>\n",
       "      <th>CENSUS_TRACT</th>\n",
       "      <th>X</th>\n",
       "      <th>Y</th>\n",
       "    </tr>\n",
       "  </thead>\n",
       "  <tbody>\n",
       "    <tr>\n",
       "      <th>count</th>\n",
       "      <td>158957.000000</td>\n",
       "      <td>158957.000000</td>\n",
       "      <td>158957.000000</td>\n",
       "      <td>106696.000000</td>\n",
       "      <td>158957.000000</td>\n",
       "      <td>158957.000000</td>\n",
       "      <td>158686.000000</td>\n",
       "      <td>80928.000000</td>\n",
       "      <td>158957.000000</td>\n",
       "      <td>106652.000000</td>\n",
       "      <td>...</td>\n",
       "      <td>158957.000000</td>\n",
       "      <td>158957.000000</td>\n",
       "      <td>52261.000000</td>\n",
       "      <td>52261.000000</td>\n",
       "      <td>158956.000000</td>\n",
       "      <td>158956.000000</td>\n",
       "      <td>158956.000000</td>\n",
       "      <td>158956.000000</td>\n",
       "      <td>158720.000000</td>\n",
       "      <td>158720.000000</td>\n",
       "    </tr>\n",
       "    <tr>\n",
       "      <th>mean</th>\n",
       "      <td>79478.000000</td>\n",
       "      <td>1.810678</td>\n",
       "      <td>0.458237</td>\n",
       "      <td>1.198039</td>\n",
       "      <td>6.187736</td>\n",
       "      <td>2.732506</td>\n",
       "      <td>1941.987579</td>\n",
       "      <td>1998.243537</td>\n",
       "      <td>1963.718024</td>\n",
       "      <td>2.091793</td>\n",
       "      <td>...</td>\n",
       "      <td>14.252999</td>\n",
       "      <td>2473.282158</td>\n",
       "      <td>2371.544249</td>\n",
       "      <td>888.834542</td>\n",
       "      <td>20012.694563</td>\n",
       "      <td>38.914854</td>\n",
       "      <td>-77.016676</td>\n",
       "      <td>5348.216324</td>\n",
       "      <td>-77.016712</td>\n",
       "      <td>38.914846</td>\n",
       "    </tr>\n",
       "    <tr>\n",
       "      <th>std</th>\n",
       "      <td>45887.077707</td>\n",
       "      <td>0.976396</td>\n",
       "      <td>0.587571</td>\n",
       "      <td>0.596924</td>\n",
       "      <td>2.618165</td>\n",
       "      <td>1.358864</td>\n",
       "      <td>33.640234</td>\n",
       "      <td>16.575786</td>\n",
       "      <td>24.923150</td>\n",
       "      <td>2.933323</td>\n",
       "      <td>...</td>\n",
       "      <td>3.725736</td>\n",
       "      <td>5059.046023</td>\n",
       "      <td>1114.272364</td>\n",
       "      <td>420.185822</td>\n",
       "      <td>15.627084</td>\n",
       "      <td>0.031723</td>\n",
       "      <td>0.040938</td>\n",
       "      <td>3369.645953</td>\n",
       "      <td>0.040933</td>\n",
       "      <td>0.031682</td>\n",
       "    </tr>\n",
       "    <tr>\n",
       "      <th>min</th>\n",
       "      <td>0.000000</td>\n",
       "      <td>0.000000</td>\n",
       "      <td>0.000000</td>\n",
       "      <td>0.000000</td>\n",
       "      <td>0.000000</td>\n",
       "      <td>0.000000</td>\n",
       "      <td>1754.000000</td>\n",
       "      <td>20.000000</td>\n",
       "      <td>1800.000000</td>\n",
       "      <td>0.000000</td>\n",
       "      <td>...</td>\n",
       "      <td>11.000000</td>\n",
       "      <td>0.000000</td>\n",
       "      <td>1001.000000</td>\n",
       "      <td>0.000000</td>\n",
       "      <td>20001.000000</td>\n",
       "      <td>38.819731</td>\n",
       "      <td>-77.113909</td>\n",
       "      <td>100.000000</td>\n",
       "      <td>-77.113135</td>\n",
       "      <td>38.820576</td>\n",
       "    </tr>\n",
       "    <tr>\n",
       "      <th>25%</th>\n",
       "      <td>39739.000000</td>\n",
       "      <td>1.000000</td>\n",
       "      <td>0.000000</td>\n",
       "      <td>1.000000</td>\n",
       "      <td>4.000000</td>\n",
       "      <td>2.000000</td>\n",
       "      <td>1918.000000</td>\n",
       "      <td>1985.000000</td>\n",
       "      <td>1954.000000</td>\n",
       "      <td>2.000000</td>\n",
       "      <td>...</td>\n",
       "      <td>11.000000</td>\n",
       "      <td>697.000000</td>\n",
       "      <td>1501.000000</td>\n",
       "      <td>616.000000</td>\n",
       "      <td>20007.000000</td>\n",
       "      <td>38.895425</td>\n",
       "      <td>-77.042892</td>\n",
       "      <td>2102.000000</td>\n",
       "      <td>-77.042894</td>\n",
       "      <td>38.895432</td>\n",
       "    </tr>\n",
       "    <tr>\n",
       "      <th>50%</th>\n",
       "      <td>79478.000000</td>\n",
       "      <td>2.000000</td>\n",
       "      <td>0.000000</td>\n",
       "      <td>1.000000</td>\n",
       "      <td>6.000000</td>\n",
       "      <td>3.000000</td>\n",
       "      <td>1937.000000</td>\n",
       "      <td>2004.000000</td>\n",
       "      <td>1963.000000</td>\n",
       "      <td>2.000000</td>\n",
       "      <td>...</td>\n",
       "      <td>13.000000</td>\n",
       "      <td>1649.000000</td>\n",
       "      <td>2265.000000</td>\n",
       "      <td>783.000000</td>\n",
       "      <td>20011.000000</td>\n",
       "      <td>38.915337</td>\n",
       "      <td>-77.019596</td>\n",
       "      <td>5201.000000</td>\n",
       "      <td>-77.019581</td>\n",
       "      <td>38.915229</td>\n",
       "    </tr>\n",
       "    <tr>\n",
       "      <th>75%</th>\n",
       "      <td>119217.000000</td>\n",
       "      <td>2.000000</td>\n",
       "      <td>1.000000</td>\n",
       "      <td>1.000000</td>\n",
       "      <td>7.000000</td>\n",
       "      <td>3.000000</td>\n",
       "      <td>1960.000000</td>\n",
       "      <td>2010.000000</td>\n",
       "      <td>1975.000000</td>\n",
       "      <td>2.000000</td>\n",
       "      <td>...</td>\n",
       "      <td>17.000000</td>\n",
       "      <td>3000.000000</td>\n",
       "      <td>2910.000000</td>\n",
       "      <td>1060.000000</td>\n",
       "      <td>20018.000000</td>\n",
       "      <td>38.936075</td>\n",
       "      <td>-76.988626</td>\n",
       "      <td>8302.000000</td>\n",
       "      <td>-76.988842</td>\n",
       "      <td>38.936077</td>\n",
       "    </tr>\n",
       "    <tr>\n",
       "      <th>max</th>\n",
       "      <td>158956.000000</td>\n",
       "      <td>14.000000</td>\n",
       "      <td>11.000000</td>\n",
       "      <td>6.000000</td>\n",
       "      <td>48.000000</td>\n",
       "      <td>24.000000</td>\n",
       "      <td>2019.000000</td>\n",
       "      <td>2019.000000</td>\n",
       "      <td>2018.000000</td>\n",
       "      <td>826.000000</td>\n",
       "      <td>...</td>\n",
       "      <td>117.000000</td>\n",
       "      <td>942632.000000</td>\n",
       "      <td>5621.000000</td>\n",
       "      <td>8553.000000</td>\n",
       "      <td>20392.000000</td>\n",
       "      <td>38.995540</td>\n",
       "      <td>-76.909758</td>\n",
       "      <td>11100.000000</td>\n",
       "      <td>-76.910511</td>\n",
       "      <td>38.993646</td>\n",
       "    </tr>\n",
       "  </tbody>\n",
       "</table>\n",
       "<p>8 rows × 26 columns</p>\n",
       "</div>"
      ],
      "text/plain": [
       "          Unnamed: 0         BATHRM      HF_BATHRM      NUM_UNITS  \\\n",
       "count  158957.000000  158957.000000  158957.000000  106696.000000   \n",
       "mean    79478.000000       1.810678       0.458237       1.198039   \n",
       "std     45887.077707       0.976396       0.587571       0.596924   \n",
       "min         0.000000       0.000000       0.000000       0.000000   \n",
       "25%     39739.000000       1.000000       0.000000       1.000000   \n",
       "50%     79478.000000       2.000000       0.000000       1.000000   \n",
       "75%    119217.000000       2.000000       1.000000       1.000000   \n",
       "max    158956.000000      14.000000      11.000000       6.000000   \n",
       "\n",
       "               ROOMS          BEDRM            AYB       YR_RMDL  \\\n",
       "count  158957.000000  158957.000000  158686.000000  80928.000000   \n",
       "mean        6.187736       2.732506    1941.987579   1998.243537   \n",
       "std         2.618165       1.358864      33.640234     16.575786   \n",
       "min         0.000000       0.000000    1754.000000     20.000000   \n",
       "25%         4.000000       2.000000    1918.000000   1985.000000   \n",
       "50%         6.000000       3.000000    1937.000000   2004.000000   \n",
       "75%         7.000000       3.000000    1960.000000   2010.000000   \n",
       "max        48.000000      24.000000    2019.000000   2019.000000   \n",
       "\n",
       "                 EYB        STORIES      ...              USECODE  \\\n",
       "count  158957.000000  106652.000000      ...        158957.000000   \n",
       "mean     1963.718024       2.091793      ...            14.252999   \n",
       "std        24.923150       2.933323      ...             3.725736   \n",
       "min      1800.000000       0.000000      ...            11.000000   \n",
       "25%      1954.000000       2.000000      ...            11.000000   \n",
       "50%      1963.000000       2.000000      ...            13.000000   \n",
       "75%      1975.000000       2.000000      ...            17.000000   \n",
       "max      2018.000000     826.000000      ...           117.000000   \n",
       "\n",
       "            LANDAREA     CMPLX_NUM    LIVING_GBA        ZIPCODE  \\\n",
       "count  158957.000000  52261.000000  52261.000000  158956.000000   \n",
       "mean     2473.282158   2371.544249    888.834542   20012.694563   \n",
       "std      5059.046023   1114.272364    420.185822      15.627084   \n",
       "min         0.000000   1001.000000      0.000000   20001.000000   \n",
       "25%       697.000000   1501.000000    616.000000   20007.000000   \n",
       "50%      1649.000000   2265.000000    783.000000   20011.000000   \n",
       "75%      3000.000000   2910.000000   1060.000000   20018.000000   \n",
       "max    942632.000000   5621.000000   8553.000000   20392.000000   \n",
       "\n",
       "            LATITUDE      LONGITUDE   CENSUS_TRACT              X  \\\n",
       "count  158956.000000  158956.000000  158956.000000  158720.000000   \n",
       "mean       38.914854     -77.016676    5348.216324     -77.016712   \n",
       "std         0.031723       0.040938    3369.645953       0.040933   \n",
       "min        38.819731     -77.113909     100.000000     -77.113135   \n",
       "25%        38.895425     -77.042892    2102.000000     -77.042894   \n",
       "50%        38.915337     -77.019596    5201.000000     -77.019581   \n",
       "75%        38.936075     -76.988626    8302.000000     -76.988842   \n",
       "max        38.995540     -76.909758   11100.000000     -76.910511   \n",
       "\n",
       "                   Y  \n",
       "count  158720.000000  \n",
       "mean       38.914846  \n",
       "std         0.031682  \n",
       "min        38.820576  \n",
       "25%        38.895432  \n",
       "50%        38.915229  \n",
       "75%        38.936077  \n",
       "max        38.993646  \n",
       "\n",
       "[8 rows x 26 columns]"
      ]
     },
     "execution_count": 11,
     "metadata": {},
     "output_type": "execute_result"
    }
   ],
   "source": [
    "#describe the data, looking at min/max etc\n",
    "dcl_df.describe()"
   ]
  },
  {
   "cell_type": "markdown",
   "metadata": {},
   "source": [
    "<h3> Ward Breakdown: What Where?</h3>"
   ]
  },
  {
   "cell_type": "code",
   "execution_count": 16,
   "metadata": {},
   "outputs": [
    {
     "data": {
      "text/plain": [
       "Ward 6    23973\n",
       "Ward 3    23688\n",
       "Ward 4    22202\n",
       "Ward 2    22167\n",
       "Ward 5    21359\n",
       "Ward 1    17455\n",
       "Ward 7    17206\n",
       "Ward 8    10906\n",
       "Name: WARD, dtype: int64"
      ]
     },
     "execution_count": 16,
     "metadata": {},
     "output_type": "execute_result"
    }
   ],
   "source": [
    "#trying to figure out how many homes per which ward are present\n",
    "#that is, count of presence of \"Ward X\" in column WARD\n",
    "\n",
    "dcl_df['WARD'].value_counts()"
   ]
  },
  {
   "cell_type": "markdown",
   "metadata": {},
   "source": [
    "<i> It would appear the Wards have very comparable sales rates. Surprisingly, Ward 6 tops the chart--possiblye due to it's larger size? Not surprising is the low volume of sales in Ward 1 (which would be very expensive) and Ward 8, which is somewhat neglected.\n",
    "</i>"
   ]
  },
  {
   "cell_type": "code",
   "execution_count": 28,
   "metadata": {},
   "outputs": [
    {
     "data": {
      "text/plain": [
       "WARD\n",
       "Ward 1     895.214028\n",
       "Ward 2     860.502595\n",
       "Ward 3     932.902108\n",
       "Ward 4     860.575610\n",
       "Ward 5    1010.261691\n",
       "Ward 6     883.013510\n",
       "Ward 7     793.582723\n",
       "Ward 8     840.932631\n",
       "Name: LIVING_GBA, dtype: float64"
      ]
     },
     "execution_count": 28,
     "metadata": {},
     "output_type": "execute_result"
    }
   ],
   "source": [
    "dcl_df['LIVING_GBA'].groupby(dcl_df['WARD']).mean()\n",
    "#attempting to display the average LIVING_GBA by ward\n",
    "#does one area have more living space than an other?\n",
    "#we predict a 'yes'"
   ]
  },
  {
   "cell_type": "markdown",
   "metadata": {},
   "source": [
    "<i>\n",
    "</i>"
   ]
  },
  {
   "cell_type": "code",
   "execution_count": 22,
   "metadata": {
    "scrolled": true
   },
   "outputs": [
    {
     "data": {
      "text/plain": [
       "WARD\n",
       "Ward 1    831.0\n",
       "Ward 2    752.0\n",
       "Ward 3    810.0\n",
       "Ward 4    740.0\n",
       "Ward 5    900.0\n",
       "Ward 6    781.0\n",
       "Ward 7    708.0\n",
       "Ward 8    766.0\n",
       "Name: LIVING_GBA, dtype: float64"
      ]
     },
     "execution_count": 22,
     "metadata": {},
     "output_type": "execute_result"
    }
   ],
   "source": [
    "dcl_df['LIVING_GBA'].groupby(dcl_df['WARD']).median()\n",
    "#mean may be skewed by a larger farmhouse in Ward 5\n",
    "#so we now look at the median"
   ]
  },
  {
   "cell_type": "code",
   "execution_count": 30,
   "metadata": {},
   "outputs": [
    {
     "data": {
      "text/plain": [
       "WARD\n",
       "Ward 1    20\n",
       "Ward 2    19\n",
       "Ward 3    16\n",
       "Ward 4    24\n",
       "Ward 5    14\n",
       "Ward 6    12\n",
       "Ward 7    12\n",
       "Ward 8    13\n",
       "Name: BEDRM, dtype: int64"
      ]
     },
     "execution_count": 30,
     "metadata": {},
     "output_type": "execute_result"
    }
   ],
   "source": [
    "#sorting ward by most rooms of a property in that area\n",
    "dcl_df['BEDRM'].groupby(dcl_df['WARD']).max()"
   ]
  },
  {
   "cell_type": "code",
   "execution_count": 31,
   "metadata": {},
   "outputs": [
    {
     "data": {
      "text/plain": [
       "WARD\n",
       "Ward 1    461500.0\n",
       "Ward 2    475000.0\n",
       "Ward 3    600000.0\n",
       "Ward 4    428000.0\n",
       "Ward 5    360710.0\n",
       "Ward 6    469900.0\n",
       "Ward 7    200000.0\n",
       "Ward 8    194900.0\n",
       "Name: PRICE, dtype: float64"
      ]
     },
     "execution_count": 31,
     "metadata": {},
     "output_type": "execute_result"
    }
   ],
   "source": [
    "#sorting ward by median price\n",
    "dcl_df['PRICE'].groupby(dcl_df['WARD']).median()"
   ]
  },
  {
   "cell_type": "code",
   "execution_count": 36,
   "metadata": {},
   "outputs": [
    {
     "data": {
      "text/plain": [
       "WARD\n",
       "Ward 1     12780000.0\n",
       "Ward 2     53969391.0\n",
       "Ward 3    137427545.0\n",
       "Ward 4      5000000.0\n",
       "Ward 5      5250000.0\n",
       "Ward 6     11000000.0\n",
       "Ward 7     11000000.0\n",
       "Ward 8     25100000.0\n",
       "Name: PRICE, dtype: float64"
      ]
     },
     "execution_count": 36,
     "metadata": {},
     "output_type": "execute_result"
    }
   ],
   "source": [
    "#ward by maximum price (and minimum)\n",
    "\n",
    "dcl_df['PRICE'].groupby(dcl_df['WARD']).max()"
   ]
  },
  {
   "cell_type": "code",
   "execution_count": 37,
   "metadata": {},
   "outputs": [
    {
     "data": {
      "text/plain": [
       "WARD\n",
       "Ward 1     10.0\n",
       "Ward 2     10.0\n",
       "Ward 3      1.0\n",
       "Ward 4    250.0\n",
       "Ward 5      1.0\n",
       "Ward 6      1.0\n",
       "Ward 7     10.0\n",
       "Ward 8      1.0\n",
       "Name: PRICE, dtype: float64"
      ]
     },
     "execution_count": 37,
     "metadata": {},
     "output_type": "execute_result"
    }
   ],
   "source": [
    "#minimum price\n",
    "dcl_df['PRICE'].groupby(dcl_df['WARD']).min()"
   ]
  },
  {
   "cell_type": "markdown",
   "metadata": {},
   "source": [
    "<h3>Structural Affairs</h3><p><h4>The Shape of Sales</h4></p>"
   ]
  },
  {
   "cell_type": "code",
   "execution_count": 39,
   "metadata": {},
   "outputs": [
    {
     "data": {
      "text/plain": [
       "Row Inside       40593\n",
       "Single           32063\n",
       "Semi-Detached    16756\n",
       "Row End          12225\n",
       "Multi             4726\n",
       "Town Inside        218\n",
       "Town End            85\n",
       "Default             26\n",
       "Vacant Land          4\n",
       "Name: STRUCT, dtype: int64"
      ]
     },
     "execution_count": 39,
     "metadata": {},
     "output_type": "execute_result"
    }
   ],
   "source": [
    "#which style of building is most common?\n",
    "#we assume\n",
    "dcl_df['STRUCT'].value_counts()"
   ]
  },
  {
   "cell_type": "markdown",
   "metadata": {},
   "source": [
    "<i> It appears that D.C.'s famous row houses are indeed the best-setlling model on the market. What, exactly, \"Default\" means is anyone's guess, we might assume it to be a standard, standalone single-family dwelling based on the presence of \"Town\" and \"Row\" in the other titles.\n",
    "Vacant land--always hard to come by in a city in the first place, by definition--only sold four times. Some questions: Was this the same land, sold four times? What were the sizes of the lot(s)?\n",
    "</i>"
   ]
  },
  {
   "cell_type": "markdown",
   "metadata": {},
   "source": [
    "<h3> The Highest [Bank]Notes</h3>\n",
    "<p><h4>Cost and Space Among the Upper Decile</h4></p>"
   ]
  },
  {
   "cell_type": "code",
   "execution_count": null,
   "metadata": {
    "collapsed": true
   },
   "outputs": [],
   "source": [
    "##found on stackexchange:\n",
    "#look into using pandas.qcut\n",
    "#pandas documentation\n",
    "#https://pandas.pydata.org/pandas-docs/stable/reference/api/pandas.qcut.html\n",
    "\n",
    "#>>> pd.qcut(range(5), 4)\n",
    "# doctest: +ELLIPSIS\n",
    "#[(-0.001, 1.0], (-0.001, 1.0], (1.0, 2.0], (2.0, 3.0], (3.0, 4.0]]\n",
    "#Categories (4, interval[float64]): [(-0.001, 1.0] < (1.0, 2.0] ..."
   ]
  },
  {
   "cell_type": "code",
   "execution_count": 44,
   "metadata": {},
   "outputs": [],
   "source": [
    "##COPIED FROM EXERCISE 3 AS A GUIDE\n",
    "##\n",
    "##\n",
    "#Interquartile Range Method\n",
    "#q1 = dcl_df['PRICE'].decile(.10)\n",
    "#q9 = dcl_df['PRICE'].decile(.90)\n",
    "#iqr = q9-q1\n",
    "#toprange = q3 + iqr * 1.5\n",
    "#botrange = q1 - iqr * 1.5\n",
    "\n",
    "#copydf = df.copy()\n",
    "#copydf = copydf.drop(copydf[copydf['grade'] > toprange].index)\n",
    "#copydf = copydf.drop(copydf[copydf['grade'] < botrange].index)\n",
    "\n",
    "#copydf.head()"
   ]
  },
  {
   "cell_type": "code",
   "execution_count": null,
   "metadata": {
    "collapsed": true
   },
   "outputs": [],
   "source": []
  }
 ],
 "metadata": {
  "kernelspec": {
   "display_name": "Python 3",
   "language": "python",
   "name": "python3"
  },
  "language_info": {
   "codemirror_mode": {
    "name": "ipython",
    "version": 3
   },
   "file_extension": ".py",
   "mimetype": "text/x-python",
   "name": "python",
   "nbconvert_exporter": "python",
   "pygments_lexer": "ipython3",
   "version": "3.6.3"
  }
 },
 "nbformat": 4,
 "nbformat_minor": 2
}
