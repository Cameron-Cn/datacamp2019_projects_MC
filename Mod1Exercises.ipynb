{
 "cells": [
  {
   "cell_type": "markdown",
   "metadata": {},
   "source": [
    "# Module 1 Exercises - Basic Python"
   ]
  },
  {
   "cell_type": "markdown",
   "metadata": {},
   "source": [
    "### Exercise 1:\n",
    "Create a variable that has an int value and another variable that has a float value. Write code that prints the product (multiply the two variables together).\n",
    "\n",
    "*Hint*: To multiply numbers in Python, use the asterisk sign (*). "
   ]
  },
  {
   "cell_type": "code",
   "execution_count": 7,
   "metadata": {},
   "outputs": [
    {
     "name": "stdout",
     "output_type": "stream",
     "text": [
      "26.796599999999998\n",
      "0.33586350507153895\n",
      "This is X\n",
      "3\n",
      "This is Y\n",
      "8.9322\n",
      "5.9322\n"
     ]
    }
   ],
   "source": [
    "x = 3\n",
    "y = 8.9322\n",
    "\n",
    "print(x*y)\n",
    "print(x/y)\n",
    "print(\"This is X\")\n",
    "print(x)\n",
    "print(\"This is Y\")\n",
    "print(y) \n",
    "print(y-x)"
   ]
  },
  {
   "cell_type": "markdown",
   "metadata": {},
   "source": [
    "### Exercise 2:\n",
    "\n",
    "Make a list of all the months in the year. Write code that uses a loop to go through the list, print out the month and the number of characters (length) for each month word."
   ]
  },
  {
   "cell_type": "code",
   "execution_count": 27,
   "metadata": {},
   "outputs": [
    {
     "name": "stdout",
     "output_type": "stream",
     "text": [
      "January\n",
      "7\n",
      "February\n",
      "8\n",
      "March\n",
      "5\n",
      "April\n",
      "5\n",
      "May\n",
      "3\n",
      "June\n",
      "4\n",
      "July\n",
      "4\n",
      "August\n",
      "6\n",
      "September\n",
      "9\n",
      "October\n",
      "7\n",
      "November\n",
      "8\n",
      "December\n",
      "8\n",
      "12\n"
     ]
    }
   ],
   "source": [
    "months=[\"January\",'February','March','April','May','June','July','August',\n",
    "        'September','October','November','December']\n",
    "for date in months:\n",
    "    print(date)\n",
    "    print(len(date))\n",
    "\n",
    "#print(months(len))\n",
    "\n",
    "print(len(months[:]))"
   ]
  },
  {
   "cell_type": "markdown",
   "metadata": {},
   "source": [
    "### Exercise 3:\n",
    "Create a dictionary with keys \"movie\" and \"season\", with the values being your favorite movie and season. Then write code to print out \"My favorite [key] is [value]\"."
   ]
  },
  {
   "cell_type": "code",
   "execution_count": 29,
   "metadata": {
    "collapsed": true
   },
   "outputs": [],
   "source": [
    "#a list of my favorite things: movie, season, color\n",
    "favorites = {'Movie':'Snatch','Season':'Autumn','Color':'Blue' }"
   ]
  },
  {
   "cell_type": "code",
   "execution_count": 33,
   "metadata": {},
   "outputs": [
    {
     "name": "stdout",
     "output_type": "stream",
     "text": [
      "{'Movie': 'Snatch', 'Season': 'Autumn', 'Color': 'Blue'}\n"
     ]
    }
   ],
   "source": [
    "print(favorites)"
   ]
  },
  {
   "cell_type": "code",
   "execution_count": 31,
   "metadata": {},
   "outputs": [
    {
     "data": {
      "text/plain": [
       "dict_keys(['Movie', 'Season', 'Color'])"
      ]
     },
     "execution_count": 31,
     "metadata": {},
     "output_type": "execute_result"
    }
   ],
   "source": [
    "favorites.keys()"
   ]
  },
  {
   "cell_type": "code",
   "execution_count": 32,
   "metadata": {},
   "outputs": [
    {
     "data": {
      "text/plain": [
       "dict_values(['Snatch', 'Autumn', 'Blue'])"
      ]
     },
     "execution_count": 32,
     "metadata": {},
     "output_type": "execute_result"
    }
   ],
   "source": [
    "favorites.values()\n"
   ]
  },
  {
   "cell_type": "code",
   "execution_count": 36,
   "metadata": {},
   "outputs": [
    {
     "name": "stdout",
     "output_type": "stream",
     "text": [
      "Snatch is my favorite Movie\n",
      "Autumn is my favorite Season\n",
      "Blue is my favorite Color\n"
     ]
    }
   ],
   "source": [
    "#writing \"my favorite is\"\n",
    "\n",
    "for media, title in favorites.items():\n",
    "    print(title + \" is my favorite \" + media)"
   ]
  },
  {
   "cell_type": "code",
   "execution_count": null,
   "metadata": {
    "collapsed": true
   },
   "outputs": [],
   "source": []
  },
  {
   "cell_type": "markdown",
   "metadata": {},
   "source": [
    "### Exercise 4:\n",
    "Create a customized function (def) that divides two variables and returns the result of their division. Then call your function using the variables you made in Exercise 1. \n",
    "\n",
    "*Hint*: To divide numbers in Python, use the forward slash (/)."
   ]
  },
  {
   "cell_type": "code",
   "execution_count": 38,
   "metadata": {},
   "outputs": [
    {
     "name": "stdout",
     "output_type": "stream",
     "text": [
      "12.0\n"
     ]
    }
   ],
   "source": [
    "a = 144\n",
    "b = 12\n",
    "d = a/b\n",
    "\n",
    "print(d)"
   ]
  },
  {
   "cell_type": "code",
   "execution_count": null,
   "metadata": {
    "collapsed": true
   },
   "outputs": [],
   "source": []
  }
 ],
 "metadata": {
  "kernelspec": {
   "display_name": "Python 3",
   "language": "python",
   "name": "python3"
  },
  "language_info": {
   "codemirror_mode": {
    "name": "ipython",
    "version": 3
   },
   "file_extension": ".py",
   "mimetype": "text/x-python",
   "name": "python",
   "nbconvert_exporter": "python",
   "pygments_lexer": "ipython3",
   "version": "3.6.3"
  }
 },
 "nbformat": 4,
 "nbformat_minor": 2
}
